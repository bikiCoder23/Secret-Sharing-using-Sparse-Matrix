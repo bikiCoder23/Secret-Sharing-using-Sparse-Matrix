{
 "cells": [
  {
   "cell_type": "code",
   "execution_count": 1,
   "id": "05d64af7",
   "metadata": {},
   "outputs": [],
   "source": [
    "import networkx as nx\n",
    "import matplotlib.pyplot as plt\n",
    "import scipy.sparse as sp\n",
    "import sympy as spsy\n",
    "import numpy as np\n",
    "from sympy import symbols, interpolate, log"
   ]
  },
  {
   "cell_type": "code",
   "execution_count": 2,
   "id": "1d104912",
   "metadata": {},
   "outputs": [],
   "source": [
    "def binary_string_to_graph(binary_string):\n",
    "    n = len(binary_string)\n",
    "    row_indices = []\n",
    "    col_indices = []\n",
    "\n",
    "    for i in range(n):\n",
    "        if binary_string[i] == '0':\n",
    "            for j in range(i + 1, n):\n",
    "                row_indices.append(i)\n",
    "                col_indices.append(j)\n",
    "        elif binary_string[i] == '1':\n",
    "            for j in range(i):\n",
    "                row_indices.append(i)\n",
    "                col_indices.append(j)\n",
    "\n",
    "    graph = sp.csr_matrix((n, n), dtype=int)\n",
    "    graph[row_indices, col_indices] = 1\n",
    "\n",
    "    return graph"
   ]
  },
  {
   "cell_type": "code",
   "execution_count": 3,
   "id": "dd8d9232",
   "metadata": {},
   "outputs": [],
   "source": [
    "def visualize_graph(graph):\n",
    "    nx_graph = nx.Graph(graph)\n",
    "\n",
    "    pos = nx.spring_layout(nx_graph)\n",
    "    nx.draw(nx_graph, pos, with_labels=True, node_color='lightblue', node_size=500, font_size=10, font_weight='bold', width=0.5)\n",
    "\n",
    "    plt.title(\"Graph Visualization\")\n",
    "    plt.axis('off')\n",
    "    plt.show()"
   ]
  },
  {
   "cell_type": "code",
   "execution_count": 4,
   "id": "5269d4aa",
   "metadata": {},
   "outputs": [],
   "source": [
    "def create_binary_matrix(graph, n):\n",
    "    binary_matrix = sp.lil_matrix((n, n), dtype=int)\n",
    "    row_indices, col_indices = graph.nonzero()\n",
    "    for i, j in zip(row_indices, col_indices):\n",
    "        binary_matrix[i, j] = 1\n",
    "    return binary_matrix"
   ]
  },
  {
   "cell_type": "code",
   "execution_count": 5,
   "id": "cb69ceb2",
   "metadata": {},
   "outputs": [],
   "source": [
    "def binary_to_decimal(binary_row):\n",
    "    decimal_value = 0\n",
    "    for bit in binary_row:\n",
    "        decimal_value = (decimal_value << 1) | bit\n",
    "    return decimal_value"
   ]
  },
  {
   "cell_type": "code",
   "execution_count": 6,
   "id": "7041c3eb",
   "metadata": {},
   "outputs": [],
   "source": [
    "def retrieve_binary_string(binary_matrix):\n",
    "    n = binary_matrix.shape[0]\n",
    "    binary_string = \"\"\n",
    "\n",
    "    # Handle the first row\n",
    "    if all(binary_matrix[0, j] == 0 for j in range(n)):\n",
    "        binary_string += '1'\n",
    "\n",
    "    i = 0\n",
    "    while i < n:\n",
    "        found = False\n",
    "        for j in range(i + 1):\n",
    "            if binary_matrix[i, j] == 1:\n",
    "                binary_string += '1'\n",
    "                found = True\n",
    "                break\n",
    "        if not found:\n",
    "            for j in range(i + 1, n):\n",
    "                if binary_matrix[i, j] == 1:\n",
    "                    binary_string += '0'\n",
    "                    break\n",
    "        i += 1\n",
    "\n",
    "    # Handle the last row\n",
    "    if all(binary_matrix[n-1, j] == 0 for j in range(n)):\n",
    "        binary_string += '0'\n",
    "\n",
    "    return binary_string"
   ]
  },
  {
   "cell_type": "code",
   "execution_count": 7,
   "id": "760e91a0",
   "metadata": {},
   "outputs": [],
   "source": [
    "def binary_matrix_to_decimal_list(binary_matrix):\n",
    "    n = binary_matrix.shape[0]\n",
    "    decimal_list = []\n",
    "    for j in range(n):\n",
    "        decimal_value = 0\n",
    "        for i in range(n):\n",
    "            decimal_value += binary_matrix[i, j] * (2 ** i)\n",
    "        decimal_list.append(decimal_value)\n",
    "    return decimal_list"
   ]
  },
  {
   "cell_type": "code",
   "execution_count": 8,
   "id": "a09a6c9f",
   "metadata": {},
   "outputs": [],
   "source": [
    "def generate_chromatic_polynomial(decimal_list):\n",
    "    x = spsy.symbols('x')\n",
    "    chromatic_polynomial = 0\n",
    "    n = len(decimal_list)\n",
    "\n",
    "    for i, coeff in enumerate(decimal_list):\n",
    "        chromatic_polynomial += coeff * (x ** (n - (i+1)))\n",
    "\n",
    "    return chromatic_polynomial"
   ]
  },
  {
   "cell_type": "code",
   "execution_count": 9,
   "id": "c0144591",
   "metadata": {},
   "outputs": [],
   "source": [
    "def calculate_chromatic_values(chromatic_polynomial, n, r):\n",
    "    chromatic_values = []\n",
    "    for x in range(r, n + r):\n",
    "        y = chromatic_polynomial.subs('x', x)\n",
    "        chromatic_values.append(y)\n",
    "    return chromatic_values"
   ]
  },
  {
   "cell_type": "code",
   "execution_count": 12,
   "id": "0bdb9ead",
   "metadata": {},
   "outputs": [
    {
     "name": "stdout",
     "output_type": "stream",
     "text": [
      "Enter an n-bit binary string: 101101\n",
      "Enter the value of r: 7\n",
      "Binary Matrix:\n",
      "[[0 0 0 0 0 0]\n",
      " [0 0 1 1 1 1]\n",
      " [1 1 0 0 0 0]\n",
      " [1 1 1 0 0 0]\n",
      " [0 0 0 0 0 1]\n",
      " [1 1 1 1 1 0]]\n",
      "Retrieved Binary String: 101101\n",
      "Decimal Values of Columns: [44, 44, 42, 34, 34, 18]\n",
      "Chromatic Polynomial: 44*x**5 + 44*x**4 + 42*x**3 + 34*x**2 + 34*x + 18\n",
      "Chromatic Polynomial Values:  [861480, 1645986, 2920536, 4885758, 7790856, 11938890]\n"
     ]
    }
   ],
   "source": [
    "binary_string = input(\"Enter an n-bit binary string: \")\n",
    "graph = binary_string_to_graph(binary_string)\n",
    "#visualize_graph(graph)\n",
    "\n",
    "r = int(input(\"Enter the value of r: \"))\n",
    "\n",
    "n = graph.shape[0]\n",
    "binary_matrix = create_binary_matrix(graph, n)\n",
    "print(\"Binary Matrix:\")\n",
    "print(binary_matrix.toarray())\n",
    "\n",
    "retrieved_binary_string = retrieve_binary_string(binary_matrix)\n",
    "print(\"Retrieved Binary String:\", retrieved_binary_string)\n",
    "\n",
    "decimal_list = binary_matrix_to_decimal_list(binary_matrix)\n",
    "print(\"Decimal Values of Columns:\", decimal_list)\n",
    "\n",
    "chromatic_polynomial = generate_chromatic_polynomial(decimal_list)\n",
    "print(\"Chromatic Polynomial:\", chromatic_polynomial)\n",
    "\n",
    "chromatic_values = calculate_chromatic_values(chromatic_polynomial, n, r)\n",
    "print(\"Chromatic Polynomial Values: \", chromatic_values)"
   ]
  },
  {
   "cell_type": "code",
   "execution_count": null,
   "id": "095aceb5",
   "metadata": {},
   "outputs": [],
   "source": []
  }
 ],
 "metadata": {
  "kernelspec": {
   "display_name": "Python 3 (ipykernel)",
   "language": "python",
   "name": "python3"
  },
  "language_info": {
   "codemirror_mode": {
    "name": "ipython",
    "version": 3
   },
   "file_extension": ".py",
   "mimetype": "text/x-python",
   "name": "python",
   "nbconvert_exporter": "python",
   "pygments_lexer": "ipython3",
   "version": "3.10.9"
  }
 },
 "nbformat": 4,
 "nbformat_minor": 5
}
